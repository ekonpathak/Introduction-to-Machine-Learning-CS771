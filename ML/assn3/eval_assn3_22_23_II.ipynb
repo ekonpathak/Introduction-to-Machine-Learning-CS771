{
  "nbformat": 4,
  "nbformat_minor": 0,
  "metadata": {
    "colab": {
      "provenance": []
    },
    "kernelspec": {
      "name": "python3",
      "display_name": "Python 3"
    },
    "language_info": {
      "name": "python"
    }
  },
  "cells": [
    {
      "cell_type": "code",
      "execution_count": null,
      "metadata": {
        "id": "FTY1xcLbZrtp"
      },
      "outputs": [],
      "source": [
        "from submit import my_predict\n",
        "import numpy as np\n",
        "import pandas as pd\n",
        "import time as tm\n",
        "import os"
      ]
    },
    {
      "cell_type": "code",
      "source": [
        "%load_ext autoreload\n",
        "%autoreload 2"
      ],
      "metadata": {
        "id": "TSa-d6ZXZz4G"
      },
      "execution_count": null,
      "outputs": []
    },
    {
      "cell_type": "code",
      "source": [
        "df_test = pd.read_csv( \"dummy_test.csv\" )\n",
        "\n",
        "n_trials = 5\n",
        "t_test = 0\n",
        "\n",
        "for t in range( n_trials ):\n",
        "  tic = tm.perf_counter()\n",
        "  df_feat = df_test.drop( [ \"OZONE\", \"NO2\" ], axis = \"columns\" )\n",
        "  ( pred_o3, pred_no2 ) = my_predict( df_feat )\n",
        "  toc = tm.perf_counter()\n",
        "  t_test += toc - tic\n",
        "\n",
        "t_test /= n_trials"
      ],
      "metadata": {
        "id": "wXxob63qZ0nJ",
        "colab": {
          "base_uri": "https://localhost:8080/"
        },
        "outputId": "72d551e2-b0df-45ee-8c14-d7d8d0045c08"
      },
      "execution_count": null,
      "outputs": [
        {
          "output_type": "stream",
          "name": "stderr",
          "text": [
            "/usr/local/lib/python3.9/dist-packages/sklearn/base.py:318: UserWarning: Trying to unpickle estimator LinearRegression from version 1.1.3 when using version 1.2.2. This might lead to breaking code or invalid results. Use at your own risk. For more info please refer to:\n",
            "https://scikit-learn.org/stable/model_persistence.html#security-maintainability-limitations\n",
            "  warnings.warn(\n",
            "/usr/local/lib/python3.9/dist-packages/sklearn/base.py:318: UserWarning: Trying to unpickle estimator LinearRegression from version 1.1.3 when using version 1.2.2. This might lead to breaking code or invalid results. Use at your own risk. For more info please refer to:\n",
            "https://scikit-learn.org/stable/model_persistence.html#security-maintainability-limitations\n",
            "  warnings.warn(\n",
            "/usr/local/lib/python3.9/dist-packages/sklearn/base.py:318: UserWarning: Trying to unpickle estimator LinearRegression from version 1.1.3 when using version 1.2.2. This might lead to breaking code or invalid results. Use at your own risk. For more info please refer to:\n",
            "https://scikit-learn.org/stable/model_persistence.html#security-maintainability-limitations\n",
            "  warnings.warn(\n",
            "/usr/local/lib/python3.9/dist-packages/sklearn/base.py:318: UserWarning: Trying to unpickle estimator LinearRegression from version 1.1.3 when using version 1.2.2. This might lead to breaking code or invalid results. Use at your own risk. For more info please refer to:\n",
            "https://scikit-learn.org/stable/model_persistence.html#security-maintainability-limitations\n",
            "  warnings.warn(\n",
            "/usr/local/lib/python3.9/dist-packages/sklearn/base.py:318: UserWarning: Trying to unpickle estimator LinearRegression from version 1.1.3 when using version 1.2.2. This might lead to breaking code or invalid results. Use at your own risk. For more info please refer to:\n",
            "https://scikit-learn.org/stable/model_persistence.html#security-maintainability-limitations\n",
            "  warnings.warn(\n"
          ]
        }
      ]
    },
    {
      "cell_type": "code",
      "source": [
        "gold_o3 = df_test[ \"OZONE\" ].to_numpy()\n",
        "gold_no2 = df_test[ \"NO2\" ].to_numpy()\n",
        "\n",
        "mae_o3 = np.mean( np.abs( pred_o3 - gold_o3 ) )\n",
        "mae_no2 = np.mean( np.abs( pred_no2 - gold_no2 ) )\n",
        "\n",
        "print( t_test, mae_o3, mae_no2 )"
      ],
      "metadata": {
        "id": "qtKmkybMbrvu",
        "colab": {
          "base_uri": "https://localhost:8080/"
        },
        "outputId": "4205d354-a294-4143-d113-cc42a7fcb429"
      },
      "execution_count": null,
      "outputs": [
        {
          "output_type": "stream",
          "name": "stdout",
          "text": [
            "0.1451396016000217 5.572014437116453 5.894867594331557\n"
          ]
        }
      ]
    }
  ]
}