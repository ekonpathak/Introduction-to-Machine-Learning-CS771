{
  "nbformat": 4,
  "nbformat_minor": 0,
  "metadata": {
    "colab": {
      "provenance": []
    },
    "kernelspec": {
      "name": "python3",
      "display_name": "Python 3"
    },
    "language_info": {
      "name": "python"
    }
  },
  "cells": [
    {
      "cell_type": "code",
      "execution_count": null,
      "metadata": {
        "id": "l2NoAdC5g4bX"
      },
      "outputs": [],
      "source": [
        "import numpy as np\n",
        "from submit import my_fit\n",
        "from submit import my_predict\n",
        "import time as tm\n",
        "import pickle\n",
        "import os"
      ]
    },
    {
      "cell_type": "code",
      "source": [
        "R = 64\n",
        "S = 4\n",
        "\n",
        "Z_trn = np.loadtxt( \"secret_train.dat\" )\n",
        "Z_tst = np.loadtxt( \"secret_test.dat\" )\n",
        "\n",
        "n_trials = 5\n",
        "\n",
        "t_train = 0\n",
        "m_size = 0\n",
        "t_test = 0\n",
        "acc = 0"
      ],
      "metadata": {
        "id": "tqlRxQX_g_jw"
      },
      "execution_count": null,
      "outputs": []
    },
    {
      "cell_type": "code",
      "source": [
        "for t in range( n_trials ):\n",
        "\ttic = tm.perf_counter()\n",
        "\tmodel = my_fit( Z_trn )\n",
        "\ttoc = tm.perf_counter()\n",
        "\tt_train += toc - tic\n",
        "\n",
        "\twith open( f\"model_dump_{t}.pkl\", \"wb\" ) as outfile:\n",
        "\t\tpickle.dump( model, outfile, protocol=pickle.HIGHEST_PROTOCOL )\n",
        "\n",
        "\tm_size += os.path.getsize( f\"model_dump_{t}.pkl\" )\n",
        "\n",
        "\ttic = tm.perf_counter()\n",
        "\tpred = my_predict( Z_tst[:, :-1], model )\n",
        "\ttoc = tm.perf_counter()\n",
        "\tt_test += toc - tic\n",
        "\n",
        "\tacc += np.average( Z_tst[ :, -1 ] == pred )"
      ],
      "metadata": {
        "id": "0LqLNUdUhEbu",
        "colab": {
          "base_uri": "https://localhost:8080/"
        },
        "outputId": "e335d37c-4ea1-48d1-f414-c64358a10aa0"
      },
      "execution_count": null,
      "outputs": [
        {
          "output_type": "stream",
          "name": "stderr",
          "text": [
            "/usr/local/lib/python3.8/dist-packages/sklearn/svm/_base.py:1206: ConvergenceWarning: Liblinear failed to converge, increase the number of iterations.\n",
            "  warnings.warn(\n",
            "/usr/local/lib/python3.8/dist-packages/sklearn/svm/_base.py:1206: ConvergenceWarning: Liblinear failed to converge, increase the number of iterations.\n",
            "  warnings.warn(\n",
            "/usr/local/lib/python3.8/dist-packages/sklearn/svm/_base.py:1206: ConvergenceWarning: Liblinear failed to converge, increase the number of iterations.\n",
            "  warnings.warn(\n",
            "/usr/local/lib/python3.8/dist-packages/sklearn/svm/_base.py:1206: ConvergenceWarning: Liblinear failed to converge, increase the number of iterations.\n",
            "  warnings.warn(\n",
            "/usr/local/lib/python3.8/dist-packages/sklearn/svm/_base.py:1206: ConvergenceWarning: Liblinear failed to converge, increase the number of iterations.\n",
            "  warnings.warn(\n"
          ]
        }
      ]
    },
    {
      "cell_type": "code",
      "source": [
        "t_train /= n_trials\n",
        "t_test /= n_trials\n",
        "m_size /= n_trials\n",
        "acc /= n_trials\n",
        "\n",
        "print( t_train, t_test, m_size, acc )"
      ],
      "metadata": {
        "id": "o38Djo7KhIAF",
        "colab": {
          "base_uri": "https://localhost:8080/",
          "height": 239
        },
        "outputId": "df68c8b4-c5df-407e-9cb6-a451f69be137"
      },
      "execution_count": null,
      "outputs": [
        {
          "output_type": "error",
          "ename": "NameError",
          "evalue": "ignored",
          "traceback": [
            "\u001b[0;31m---------------------------------------------------------------------------\u001b[0m",
            "\u001b[0;31mNameError\u001b[0m                                 Traceback (most recent call last)",
            "\u001b[0;32m<ipython-input-1-67347ff7e134>\u001b[0m in \u001b[0;36m<cell line: 1>\u001b[0;34m()\u001b[0m\n\u001b[0;32m----> 1\u001b[0;31m \u001b[0mt_train\u001b[0m \u001b[0;34m/=\u001b[0m \u001b[0mn_trials\u001b[0m\u001b[0;34m\u001b[0m\u001b[0;34m\u001b[0m\u001b[0m\n\u001b[0m\u001b[1;32m      2\u001b[0m \u001b[0mt_test\u001b[0m \u001b[0;34m/=\u001b[0m \u001b[0mn_trials\u001b[0m\u001b[0;34m\u001b[0m\u001b[0;34m\u001b[0m\u001b[0m\n\u001b[1;32m      3\u001b[0m \u001b[0mm_size\u001b[0m \u001b[0;34m/=\u001b[0m \u001b[0mn_trials\u001b[0m\u001b[0;34m\u001b[0m\u001b[0;34m\u001b[0m\u001b[0m\n\u001b[1;32m      4\u001b[0m \u001b[0macc\u001b[0m \u001b[0;34m/=\u001b[0m \u001b[0mn_trials\u001b[0m\u001b[0;34m\u001b[0m\u001b[0;34m\u001b[0m\u001b[0m\n\u001b[1;32m      5\u001b[0m \u001b[0;34m\u001b[0m\u001b[0m\n",
            "\u001b[0;31mNameError\u001b[0m: name 't_train' is not defined"
          ]
        }
      ]
    }
  ]
}